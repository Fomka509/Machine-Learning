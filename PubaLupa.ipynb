{
 "cells": [
  {
   "cell_type": "code",
   "execution_count": 19,
   "metadata": {},
   "outputs": [
    {
     "name": "stdout",
     "output_type": "stream",
     "text": [
      "Pupa's result: [5, 7, 9]\n",
      "Lupa's result: [3, 3, 3]\n",
      "Pupa's salary: 1500.0\n",
      "Lupa's salary: 1000\n"
     ]
    }
   ],
   "source": [
    "class Pupa:\n",
    "    def __init__(self):\n",
    "        self.salary = 0\n",
    "\n",
    "    def do_work(self, list1, list2):\n",
    "        result = [x + y for x, y in zip(list1, list2)]\n",
    "        print(\"Pupa's result:\", result)\n",
    "        return result\n",
    "\n",
    "    def take_salary(self, amount):\n",
    "        self.salary += amount\n",
    "\n",
    "\n",
    "class Lupa:\n",
    "    def __init__(self):\n",
    "        self.salary = 0\n",
    "\n",
    "    def do_work(self, list1, list2):\n",
    "        result = [x - y for x, y in zip(list1, list2)]\n",
    "        print(\"Lupa's result:\", result)\n",
    "        return result\n",
    "\n",
    "    def take_salary(self, amount):\n",
    "        self.salary += amount\n",
    "\n",
    "\n",
    "class Accountant:\n",
    "    def give_salary(self, worker, res):\n",
    "        if isinstance(worker, (Pupa, Lupa)):\n",
    "            amount_to_pay = self.calculate_salary(worker, res)\n",
    "            worker.take_salary(amount_to_pay)\n",
    "\n",
    "    def calculate_salary(self, worker, res):\n",
    "        base_salary = 1000\n",
    "        if sum(res) > 10:\n",
    "            exta_salary = 0.5 * base_salary\n",
    "            total_salary = base_salary + exta_salary\n",
    "        else:\n",
    "            total_salary = base_salary\n",
    "        return total_salary\n",
    "\n",
    "\n",
    "if __name__ == \"__main__\":\n",
    "    accountant = Accountant()\n",
    "    pupa = Pupa()\n",
    "    lupa = Lupa()\n",
    "\n",
    "    pupa_res = pupa.do_work([1, 2, 3], [4, 5, 6])\n",
    "    lupa_res = lupa.do_work([9, 8, 7], [6, 5, 4])\n",
    "\n",
    "    accountant.give_salary(pupa, pupa_res)\n",
    "    accountant.give_salary(lupa, lupa_res)\n",
    "\n",
    "    print(\"Pupa's salary:\", pupa.salary)\n",
    "    print(\"Lupa's salary:\", lupa.salary)"
   ]
  }
 ],
 "metadata": {
  "kernelspec": {
   "display_name": "Python 3",
   "language": "python",
   "name": "python3"
  },
  "language_info": {
   "codemirror_mode": {
    "name": "ipython",
    "version": 3
   },
   "file_extension": ".py",
   "mimetype": "text/x-python",
   "name": "python",
   "nbconvert_exporter": "python",
   "pygments_lexer": "ipython3",
   "version": "3.11.8"
  }
 },
 "nbformat": 4,
 "nbformat_minor": 2
}
