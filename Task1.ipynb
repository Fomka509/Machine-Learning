{
  "nbformat": 4,
  "nbformat_minor": 0,
  "metadata": {
    "colab": {
      "provenance": [],
      "toc_visible": true
    },
    "kernelspec": {
      "name": "python3",
      "display_name": "Python 3"
    },
    "language_info": {
      "name": "python"
    }
  },
  "cells": [
    {
      "cell_type": "code",
      "execution_count": 10,
      "metadata": {
        "colab": {
          "base_uri": "https://localhost:8080/"
        },
        "id": "CtHNs4WAFzpY",
        "outputId": "90bb02d4-20a2-41b0-c533-e71cf4119b6b"
      },
      "outputs": [
        {
          "output_type": "stream",
          "name": "stdout",
          "text": [
            "66\n",
            "ЖАРКО\n"
          ]
        }
      ],
      "source": [
        "temp = float(input())\n",
        "if temp<15.5:\n",
        "  print('ХОЛОДНО')\n",
        "elif temp>28:\n",
        "  print('ЖАРКО')\n",
        "else:\n",
        "  print('НОРМАЛЬНО')\n"
      ]
    },
    {
      "cell_type": "code",
      "source": [
        "n = int(input())\n",
        "cat =[]\n",
        "for i in range(n):\n",
        "  cat.append(input())\n",
        "for item in cat:\n",
        "  if item.find('Кот') > -1 or item.find('от') > -1:\n",
        "    res = True\n",
        "  else:\n",
        "    res = False\n",
        "if res:\n",
        "  print('МЯУ')\n",
        "else:\n",
        "  print('НЕТ')"
      ],
      "metadata": {
        "colab": {
          "base_uri": "https://localhost:8080/"
        },
        "id": "jpO3mvXIGkec",
        "outputId": "8e29d178-67e0-40a4-8f71-c26aa128a02e"
      },
      "execution_count": 18,
      "outputs": [
        {
          "output_type": "stream",
          "name": "stdout",
          "text": [
            "3\n",
            "лрилр\n",
            "лоипг\n",
            "долт\n",
            "НЕТ\n"
          ]
        }
      ]
    },
    {
      "cell_type": "code",
      "source": [
        "words = []\n",
        "word = str(input())\n",
        "while word != 'стоп':\n",
        "  words.append(word)\n",
        "  word = str(input())\n",
        "length = []\n",
        "for item in words:\n",
        "  length.append(len(item))\n",
        "for later in words[length.index(min(length))]:\n",
        "  if words[length.index(max(length))].find(later) == -1:\n",
        "    res = False\n",
        "  else:\n",
        "    res = True\n",
        "if res:\n",
        "  print('ДА')\n",
        "else:\n",
        "  print('НЕТ')\n"
      ],
      "metadata": {
        "colab": {
          "base_uri": "https://localhost:8080/"
        },
        "id": "0YoH2gJNJ3J-",
        "outputId": "59be2200-4ae8-4b47-b5e6-c5f16c6d3ccf"
      },
      "execution_count": 2,
      "outputs": [
        {
          "output_type": "stream",
          "name": "stdout",
          "text": [
            "ячсмит\n",
            "ячсм\n",
            "ол\n",
            "стоп\n",
            "НЕТ\n"
          ]
        }
      ]
    },
    {
      "cell_type": "code",
      "source": [
        "n = int(input())\n",
        "goods =[]\n",
        "for i in range(n):\n",
        "  goods.append(input())\n",
        "for item in goods:\n",
        "  print(item)"
      ],
      "metadata": {
        "colab": {
          "base_uri": "https://localhost:8080/"
        },
        "id": "HFN26Om0Rkvk",
        "outputId": "e0482280-4f2c-4cd0-e3cb-004a438d2867"
      },
      "execution_count": 22,
      "outputs": [
        {
          "output_type": "stream",
          "name": "stdout",
          "text": [
            "3\n",
            "ро\n",
            "мро\n",
            "иол\n",
            "ро\n",
            "мро\n",
            "иол\n"
          ]
        }
      ]
    },
    {
      "cell_type": "code",
      "source": [
        "norm = list(input())\n",
        "cool =[]\n",
        "for later in norm:\n",
        "  cool.append(later*2)\n",
        "print(''.join(cool))"
      ],
      "metadata": {
        "colab": {
          "base_uri": "https://localhost:8080/"
        },
        "id": "0-OLugPRS8Fw",
        "outputId": "569efcbd-f3da-498c-cca6-39ee20600d10"
      },
      "execution_count": 11,
      "outputs": [
        {
          "output_type": "stream",
          "name": "stdout",
          "text": [
            "xhfcjg\n",
            "xxhhffccjjgg\n"
          ]
        }
      ]
    },
    {
      "cell_type": "code",
      "source": [
        "def greet():\n",
        "  name = input()\n",
        "  surname = input()\n",
        "  print('Зравствуйте,', name, surname)\n",
        "greet()"
      ],
      "metadata": {
        "colab": {
          "base_uri": "https://localhost:8080/"
        },
        "id": "1WQDNofKUdQ-",
        "outputId": "f7f5d303-39c3-48ec-d40e-f24d46e03ae9"
      },
      "execution_count": 13,
      "outputs": [
        {
          "output_type": "stream",
          "name": "stdout",
          "text": [
            "hk\n",
            "vjh\n",
            "Зравствуйте, hk vjh\n"
          ]
        }
      ]
    },
    {
      "cell_type": "code",
      "source": [
        "class LittleBell():\n",
        "    def sound(self):\n",
        "      print('ding')\n",
        "bell = LittleBell()\n",
        "bell.sound()"
      ],
      "metadata": {
        "colab": {
          "base_uri": "https://localhost:8080/"
        },
        "id": "0UaNVlzLVF1p",
        "outputId": "8a482dfa-2bcf-497a-b8ba-99c53ef4d97a"
      },
      "execution_count": 15,
      "outputs": [
        {
          "output_type": "stream",
          "name": "stdout",
          "text": [
            "ding\n"
          ]
        }
      ]
    },
    {
      "cell_type": "markdown",
      "source": [
        "За время обучения в университете, прошел курсы по C, C++, python, matlab. Самостоятельно прошел курс от Blasteam по python для биологов и курс по нейросетям от sumsung на stepik. Планирую углубить знания о машинном обучении."
      ],
      "metadata": {
        "id": "c6Hj518aXHPA"
      }
    }
  ]
}