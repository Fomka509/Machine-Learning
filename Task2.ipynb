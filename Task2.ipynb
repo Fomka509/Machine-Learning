{
 "cells": [
  {
   "cell_type": "code",
   "execution_count": 10,
   "metadata": {},
   "outputs": [
    {
     "name": "stdout",
     "output_type": "stream",
     "text": [
      "Введите количество чисел\n",
      "Введите 3 числа\n",
      "[56.0, 53.0, 3.0]\n"
     ]
    }
   ],
   "source": [
    "# Сортировка в обратном порядке\n",
    "print('Введите количество чисел')\n",
    "N = int(input())\n",
    "print(f\"Введите {N} числа\")\n",
    "num = []\n",
    "for i in range(N):\n",
    "    num.append(float(input()))\n",
    "print(sorted(num, reverse=True))"
   ]
  },
  {
   "cell_type": "code",
   "execution_count": 17,
   "metadata": {},
   "outputs": [
    {
     "name": "stdout",
     "output_type": "stream",
     "text": [
      "Введите число сторк\n",
      "Введите логи\n",
      "['bgdbgt', 'rt']\n"
     ]
    }
   ],
   "source": [
    "# Фильтр\n",
    "print('Введите число сторк')\n",
    "N = int(input())\n",
    "print('Введите логи')\n",
    "logs = []\n",
    "for i in range(N):\n",
    "    row = input()\n",
    "    if row.startswith('%%'):\n",
    "        logs.append(row[2:])\n",
    "    elif row.startswith('####'):\n",
    "        continue\n",
    "    else:\n",
    "        logs.append(row)\n",
    "print(logs)"
   ]
  },
  {
   "cell_type": "code",
   "execution_count": 5,
   "metadata": {},
   "outputs": [
    {
     "name": "stdout",
     "output_type": "stream",
     "text": [
      "Введите элементов списка\n",
      "5 \n",
      "Введите элементы списка по очереди\n",
      "1.0\n",
      "2.0\n",
      "3.0\n",
      "4.0\n",
      "5.0\n",
      "Введите стартовый индекс\n",
      "3\n",
      "Введите конечный индекс\n",
      "5\n",
      "Сумма в интервале 3:5 12.0\n"
     ]
    }
   ],
   "source": [
    "# От и до\n",
    "print('Введите количество элементов списка')\n",
    "N = int(input())\n",
    "print(N,'\\nВведите элементы списка по очереди')\n",
    "numbers = []\n",
    "for i in range(N):\n",
    "    number = float(input())\n",
    "    print(number)\n",
    "    numbers.append(number)\n",
    "    \n",
    "print('Введите стартовый индекс')\n",
    "p = int(input())\n",
    "print(p)\n",
    "print('Введите конечный индекс')\n",
    "q = int(input())\n",
    "print(q)\n",
    "print(f\"Сумма в интервале {p}:{q} равна {sum(numbers[p-1:q])}\")"
   ]
  },
  {
   "cell_type": "code",
   "execution_count": 16,
   "metadata": {},
   "outputs": [
    {
     "name": "stdout",
     "output_type": "stream",
     "text": [
      "Введите фамилии учеников и их оценки (через запятую)\n",
      "Введите количество свободных мест\n",
      "['Абрамов', 'Иванов']\n"
     ]
    }
   ],
   "source": [
    "# Список отличников\n",
    "print('Введите фамилии учеников и их оценки (через запятую)')\n",
    "students_str = input()\n",
    "print('Введите количество свободных мест')\n",
    "places = int(input())\n",
    "students = students_str.split(', ')\n",
    "best_students = []\n",
    "for student in students:\n",
    "    if '5' in student:\n",
    "        best_students.append(student.split(' ')[0])\n",
    "best_students = sorted(best_students)\n",
    "print(best_students[:places])"
   ]
  },
  {
   "cell_type": "code",
   "execution_count": 43,
   "metadata": {},
   "outputs": [
    {
     "name": "stdout",
     "output_type": "stream",
     "text": [
      "Надежный пароль\n"
     ]
    }
   ],
   "source": [
    "# Пароль\n",
    "def password_level(password):\n",
    "    special_symbols = '@#$%&*().,-+_'\n",
    "    if len(password) < 8:\n",
    "        print('Недопустимый пароль')\n",
    "    else: \n",
    "        try:\n",
    "            int(password)\n",
    "        except ValueError:\n",
    "            all_letters = True\n",
    "            for symb in password:\n",
    "                try: \n",
    "                    int(symb)\n",
    "                except ValueError:\n",
    "                    continue\n",
    "                else:\n",
    "                    all_letters = False\n",
    "                    break\n",
    "            if all_letters:\n",
    "                if password.islower() or password.isupper():\n",
    "                    print('Ненадежный пароль')\n",
    "                else:\n",
    "                    print('Слабый пароль')\n",
    "            else:\n",
    "                if password.islower() or password.isupper():\n",
    "                    print('Слабый пароль')\n",
    "                else:\n",
    "                    special = False\n",
    "                    for symbol in special_symbols:\n",
    "                        if symbol in password:\n",
    "                            print('Надежный пароль')\n",
    "                            special = True\n",
    "                            break\n",
    "                    if not special:\n",
    "                        print('Средний пароль') # такой случай не предложен в задании, например aB12cD34, символов нет, но есть цифры и буквы разного регистра\n",
    "        else:\n",
    "            print('Ненадежный пароль')\n",
    "\n",
    "password = input('Введите новый пароль')\n",
    "password_level(password)"
   ]
  }
 ],
 "metadata": {
  "kernelspec": {
   "display_name": "Python 3",
   "language": "python",
   "name": "python3"
  },
  "language_info": {
   "codemirror_mode": {
    "name": "ipython",
    "version": 3
   },
   "file_extension": ".py",
   "mimetype": "text/x-python",
   "name": "python",
   "nbconvert_exporter": "python",
   "pygments_lexer": "ipython3",
   "version": "3.11.7"
  }
 },
 "nbformat": 4,
 "nbformat_minor": 4
}
